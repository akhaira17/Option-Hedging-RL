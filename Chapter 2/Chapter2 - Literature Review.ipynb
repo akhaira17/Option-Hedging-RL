{
 "cells": [
  {
   "cell_type": "markdown",
   "metadata": {},
   "source": [
    "Option hedging is a fundamental problem in quantitative finance dating back to Black-Scholes Merton in the 1970s. First let us briefly discuss the idea of Option Hedging; we will show the mathematical breakdown further in Chapter 3. We can think of option hedging like buying insurance for an investment portfolio. Just as we pay a premium to protect our house in the event of a fire, we pay a premium (the option price), to protect our investments against adverse price movements. What we are doing is not eliminating all risk but rather strategically transferring specific that we do not wish to bear. <br><br>\n",
    "How does this work in practice? An option gives us the right but not obligation to buy or sell an asset at a predetermined price within a certain timeframe. Call options affords us the right to buy at a fixed price. Put options inversely, affords us the right to sell at a fixed price. <br><br>\n",
    "Before continuing with work in this area, let us formulate a scenario to appreciate the option hedging mechanism. Assume an investor owns 100 shares of Apple stock at $100 per share. They may be worried it might drop, however, they are not willing to sell in the short-term, given long-term prospects. The investor could then choose to buy a put option with a strike price of $140, expiring in 3 months, for $3 a share. The strike price here, guarantees the investor, the right to sell their shares at $140 in 3 months, irrespective of how low the stock goes. All the investor must pay is the premium (i.e. the insurance) which is $3 a share. If, however, the price continues to rise, then they are not obligated to sell and can reap the benefits of higher stock prices. \n",
    "\n",
    "In the classical Black-Scholes model, continuous delta-hedging can perfectly replicate an option's payoff under idealised conditions. Real markets, however, are incomplete - trading is discrete, with frictions and unknown or time-varying parameters - so perfect replication is impossible [1][2]. This means hedging strategies inevitably carry residual risk. Traditional approaches like delta-heding assume a specific model (e.g. Brownian motion with constant volatility) which can be dangerously fragile if the model is misspecified or if market regime shifts occur. <br> <br>\n",
    "\n",
    "Model uncertainty has long been recognised as a major challenge for hedging. Early robust hedging methods in mathematical finance attempted to immunise strategies against worst-case model deviations. A notable example is the uncertain volatility model of Avellaneda et al. (1995), which assumes volatility lies within a known range rather than a fixed value [3][4]. By solving a min-max problem (often via a nonlinear Black-Scholes Partial Differential Equation), one can obtain hedging strategies and option price bounds that are robust to volatility's true value[4]. While effective in guaranteeing no-arbitrage bounds, such worst-case hedges tend to be overly conservative and may say sacrifice profit under normal conditions. Similarly, Lyons (1995) and others studied robust pricing with volatility uncertainty, highlighting the inherent trade-off between protection and performance under model misspecification. \n",
    "\n",
    "Regime-switching models offer a structured way to incorporate changing market dynamics. In these models, parameters such as volatility or drift switch between discrete regimes (states) according to some Markov process[2][5]. For example, one regime might correspond to low volatility (stable markets) and another to high volatility (turbulent markets), possibly even switching between Black-Scholes type dynamics and Heston stochastic volatility dynamics. Regime-switching stochastic volatility models have been used to capture phenomena like bull/bear markets or sudden volatility spikes[2]. Goutte (2013) considers a model where both the "
   ]
  },
  {
   "cell_type": "markdown",
   "metadata": {},
   "source": []
  }
 ],
 "metadata": {
  "language_info": {
   "name": "python"
  }
 },
 "nbformat": 4,
 "nbformat_minor": 2
}
